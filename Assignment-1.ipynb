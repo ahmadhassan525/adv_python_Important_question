{
 "cells": [
  {
   "cell_type": "markdown",
   "metadata": {},
   "source": [
    "### Q1  How do you find the missing number in a given list of 1 to 100?"
   ]
  },
  {
   "cell_type": "code",
   "execution_count": null,
   "metadata": {},
   "outputs": [],
   "source": [
    "def missig_values(value):\n",
    "    for i in range(1,value[-1]):\n",
    "        if i not in value:\n",
    "            print(i,end=\" \")\n",
    "            \n",
    "            \n",
    "a = [19,22,39,11,22,33,44,50]\n",
    "\n",
    "missig_values(sorted(a))"
   ]
  },
  {
   "cell_type": "markdown",
   "metadata": {},
   "source": [
    "### Q2 How do you find the duplicate number on a given integer list?"
   ]
  },
  {
   "cell_type": "code",
   "execution_count": 9,
   "metadata": {},
   "outputs": [
    {
     "name": "stdout",
     "output_type": "stream",
     "text": [
      "[1, 7, 66, 99, 101]\n"
     ]
    }
   ],
   "source": [
    "def duplicate_number(x):\n",
    "    dic = []\n",
    "    for i in range(0,len(x)-1):\n",
    "        if x[i] == x[i+1]:\n",
    "            #print(x[i],end=\" \")\n",
    "            dic.append(x[i])        \n",
    "    return dic        \n",
    "            \n",
    "number  = [0,1,1,7,7,8,9,33,99,66,66,99,88,101,101] \n",
    "number1 = sorted(number)\n",
    "print(duplicate_number(number1))"
   ]
  },
  {
   "cell_type": "markdown",
   "metadata": {},
   "source": [
    "### Q3 How do you ﬁnd the largest and smallest number in an unsorted integer list?\n"
   ]
  },
  {
   "cell_type": "code",
   "execution_count": null,
   "metadata": {},
   "outputs": [],
   "source": [
    "def largest_smallest_number(array,types):\n",
    "    max_and_min_number  = array[0] \n",
    "    if types == \"small\":\n",
    "        for n in array:\n",
    "            if n < max_and_min_number:\n",
    "                max_and_min_number = n\n",
    "        print(max_and_min_number)        \n",
    "    elif types == \"larg\":\n",
    "        for n in array:\n",
    "            if n > max_and_min_number:\n",
    "                max_and_min_number = n\n",
    "        print(max_and_min_number)        \n",
    "    else:\n",
    "        print(\"Please enter the correct type \")\n",
    "        \n",
    "        \n",
    "lists = [2,3,45,6,78,9,1,55,33,4466]\n",
    "\n",
    "largest_smallest_number(lists,\"small\")"
   ]
  },
  {
   "cell_type": "code",
   "execution_count": null,
   "metadata": {},
   "outputs": [],
   "source": [
    "lists = [2,3,45,6,78,9,1,55,33,4466]\n",
    "print(min(lists))\n",
    "print(max(lists))"
   ]
  },
  {
   "cell_type": "markdown",
   "metadata": {},
   "source": [
    "### Q4 How do you ﬁnd all pairs of an integer list whose sum is equal to a given number?"
   ]
  },
  {
   "cell_type": "code",
   "execution_count": null,
   "metadata": {},
   "outputs": [],
   "source": [
    "def sum_two_pair_list(array,value):\n",
    "    for i in range(len(array)-1):\n",
    "        for j in range(i+1,len(array)):\n",
    "            if array[i] + array[j] == value:\n",
    "                print(array[i] , array[j])\n",
    "    return \"not possible\"           \n",
    "\n",
    "\n",
    "\n",
    "\n",
    "a = [2,3,4,5,5,1]\n",
    "print(sum_two_pair_list(a,9))"
   ]
  },
  {
   "cell_type": "markdown",
   "metadata": {},
   "source": [
    "### Q5 How do you ﬁnd duplicate numbers in list if it contains multiple duplicates?"
   ]
  },
  {
   "cell_type": "code",
   "execution_count": null,
   "metadata": {},
   "outputs": [],
   "source": [
    "def duplicate_number(x):\n",
    "    dic = []\n",
    "    for i in range(0,len(x)-1):\n",
    "        if x[i] == x[i+1]:\n",
    "            print(x[i],end=\" \")\n",
    "            \n",
    "number  = [55,22,9,0,1,1,1,7,7,7,7,8,9,33,99,66] \n",
    "number1 = sorted(number)\n",
    "duplicate_number(number1)"
   ]
  },
  {
   "cell_type": "markdown",
   "metadata": {},
   "source": [
    "### Q6 How are duplicates removed from a given list?"
   ]
  },
  {
   "cell_type": "code",
   "execution_count": null,
   "metadata": {
    "scrolled": true
   },
   "outputs": [],
   "source": [
    "def duplicate_number(x):\n",
    "    dic = []\n",
    "    for i in range(0,len(x)-1):\n",
    "        if x[i] == x[i+1]:\n",
    "            #print(x[i],end=\" \")\n",
    "            print()\n",
    "        else:\n",
    "            dic.append(x[i])\n",
    "    dic.append(x[-1])        \n",
    "    return dic        \n",
    "            \n",
    "number  = [0,1,1,7,7,8,9,33,99,66,66,99,88] \n",
    "number1 = sorted(number)\n",
    "print(number1)\n",
    "print(duplicate_number(number1))"
   ]
  },
  {
   "cell_type": "markdown",
   "metadata": {},
   "source": [
    "### Q7 How is an integer list sorted in place using the bubble sort algorithm"
   ]
  },
  {
   "cell_type": "code",
   "execution_count": null,
   "metadata": {},
   "outputs": [],
   "source": [
    "def sort(array):\n",
    "    for i in range(len(array)):\n",
    "        for j in range(i):\n",
    "            if array[j] > array[j+1]:\n",
    "                temp = array[j]\n",
    "                array[j] = array[j+1]\n",
    "                array[j+1] = temp\n",
    "\n",
    "numbers = [99,4,3,2,38,7,565]\n",
    "sort()"
   ]
  },
  {
   "cell_type": "markdown",
   "metadata": {},
   "source": [
    "### Q8 How do you remove duplicates from list in place? "
   ]
  },
  {
   "cell_type": "code",
   "execution_count": 28,
   "metadata": {},
   "outputs": [
    {
     "name": "stdout",
     "output_type": "stream",
     "text": [
      "[2, 3, 4, 5, 6, 0]\n"
     ]
    }
   ],
   "source": [
    "def remove_duplicate(x):\n",
    "    return list(dict.fromkeys(x))\n",
    "\n",
    "a  = [2,3,4,5,6,5,2,0]\n",
    "mylist = remove_duplicate(a)\n",
    "\n",
    "print(mylist)"
   ]
  },
  {
   "cell_type": "markdown",
   "metadata": {},
   "source": [
    "### Q9 How do you reverse list in place?"
   ]
  },
  {
   "cell_type": "code",
   "execution_count": null,
   "metadata": {},
   "outputs": [],
   "source": [
    "array = [1,2,3,4,5,6,7]\n",
    "array.reverse()\n",
    "print(array)"
   ]
  },
  {
   "cell_type": "markdown",
   "metadata": {},
   "source": [
    "### Q10 How are duplicates removed from list without using any library?"
   ]
  },
  {
   "cell_type": "code",
   "execution_count": 3,
   "metadata": {},
   "outputs": [
    {
     "name": "stdout",
     "output_type": "stream",
     "text": [
      "[0, 1, 1, 7, 7, 8, 9, 33, 66, 66, 88, 99, 99]\n",
      "\n",
      "\n",
      "\n",
      "\n",
      "[0, 1, 7, 8, 9, 33, 66, 88, 99]\n"
     ]
    }
   ],
   "source": [
    "def duplicate_number(x):\n",
    "    dic = []\n",
    "    for i in range(0,len(x)-1):\n",
    "        if x[i] == x[i+1]:\n",
    "            #print(x[i],end=\" \")\n",
    "            print()\n",
    "        else:\n",
    "            dic.append(x[i])\n",
    "    dic.append(x[-1])        \n",
    "    return dic        \n",
    "            \n",
    "number  = [0,1,1,7,7,8,9,33,99,66,66,99,88] \n",
    "number1 = sorted(number)\n",
    "print(number1)\n",
    "print(duplicate_number(number1))"
   ]
  },
  {
   "cell_type": "markdown",
   "metadata": {},
   "source": [
    "### Q11 How do you print duplicate characters from a string?\n"
   ]
  },
  {
   "cell_type": "code",
   "execution_count": 5,
   "metadata": {},
   "outputs": [
    {
     "name": "stdout",
     "output_type": "stream",
     "text": [
      "p i "
     ]
    }
   ],
   "source": [
    "def duplicate_string(s):\n",
    "    var_array = []\n",
    "    for i in s:\n",
    "        if i not in var_array:\n",
    "            var_array.append(i)\n",
    "        else:\n",
    "            print(i ,end=\" \")\n",
    "\n",
    "\n",
    "\n",
    "\n",
    "\n",
    "\n",
    "var = \"hippontiues\"\n",
    "      \n",
    "duplicate_string(var)"
   ]
  },
  {
   "cell_type": "markdown",
   "metadata": {},
   "source": [
    "### Q12 How do you check if two strings are anagrams of each other?"
   ]
  },
  {
   "cell_type": "code",
   "execution_count": 24,
   "metadata": {},
   "outputs": [
    {
     "name": "stdout",
     "output_type": "stream",
     "text": [
      "True\n",
      "False\n"
     ]
    }
   ],
   "source": [
    "input_str_1 = \"practice makes perfect\"\n",
    "input_str_2 = \"perfect makes practice\"\n",
    "\n",
    "input_str_3 = \"allergy\"\n",
    "input_str_4 = \"allergic\"\n",
    "\n",
    "\n",
    "def is_anagram(str_1, str_2):\n",
    "    str_1 = str_1.replace(\" \", \"\")\n",
    "    str_2 = str_2.replace(\" \", \"\")\n",
    "\n",
    "    if len(str_1) != len(str_2):\n",
    "        return False\n",
    "\n",
    "    alphabet = \"abcdefghijklmnopqrstuvwxyz\"\n",
    "    str_1 = str_1.lower()\n",
    "    str_2 = str_2.lower()\n",
    "\n",
    "    dict_1 = dict.fromkeys(list(alphabet), 0)\n",
    "    dict_2 = dict.fromkeys(list(alphabet), 0)\n",
    "\n",
    "    for i in range(len(str_1)):\n",
    "        dict_1[str_1[i]] += 1\n",
    "        dict_2[str_2[i]] += 1    \n",
    "    #print(dict_1)\n",
    "    #print(dict_2)\n",
    "    return dict_1 == dict_2\n",
    "\n",
    "\n",
    "# Is an anagram:\n",
    "print(is_anagram(input_str_1, input_str_2))\n",
    "\n",
    "# Is not an anagram:\n",
    "print(is_anagram(input_str_3, input_str_4))"
   ]
  },
  {
   "cell_type": "markdown",
   "metadata": {},
   "source": [
    "### Q13 How do you print the ﬁrst non-repeated character from a string?"
   ]
  },
  {
   "cell_type": "code",
   "execution_count": null,
   "metadata": {},
   "outputs": [],
   "source": []
  },
  {
   "cell_type": "markdown",
   "metadata": {},
   "source": [
    "### Q14 How can a given string be reversed using recursion"
   ]
  },
  {
   "cell_type": "code",
   "execution_count": 29,
   "metadata": {},
   "outputs": [
    {
     "name": "stdout",
     "output_type": "stream",
     "text": [
      "n a s s a H   d e m h a "
     ]
    }
   ],
   "source": [
    "def reversed_string_recursion(s):\n",
    "    len_s = len(s)\n",
    "    if len_s == 0:\n",
    "        return\n",
    "    last_char = s[len_s-1]\n",
    "    print(last_char ,end=\" \")\n",
    "    reversed_string_recursion(s[0:len_s-1])\n",
    "    \n",
    "\n",
    "values = \"ahmed Hassan\"\n",
    "reversed_string_recursion(values)"
   ]
  },
  {
   "cell_type": "markdown",
   "metadata": {},
   "source": [
    "### Q15 How do you check if a string contains only digits?\n"
   ]
  },
  {
   "cell_type": "code",
   "execution_count": 40,
   "metadata": {},
   "outputs": [
    {
     "name": "stdout",
     "output_type": "stream",
     "text": [
      " 4 2 3 0 0 7 8\n"
     ]
    }
   ],
   "source": [
    "def digits_find(string):\n",
    "    string = string.replace(\" \",\"\")\n",
    "    string = string.lower()\n",
    "    digit  = \"\"\n",
    "    alphabet = \"abcdefghijklmnopqrstuvwxyz\"\n",
    "    for i in string:\n",
    "        if i not in alphabet:\n",
    "            digit =digit+\" \" + i\n",
    "            \n",
    "            \n",
    "    return digit\n",
    "\n",
    "\n",
    "\n",
    "string_find_digit = \"4 ahmed 2 3 hassn fo00rm paki78stan\"\n",
    "\n",
    "print(digits_find(string_find_digit))"
   ]
  },
  {
   "cell_type": "markdown",
   "metadata": {},
   "source": [
    "### Q16 How are duplicate characters found in a string?"
   ]
  },
  {
   "cell_type": "code",
   "execution_count": null,
   "metadata": {},
   "outputs": [],
   "source": []
  },
  {
   "cell_type": "markdown",
   "metadata": {},
   "source": [
    "### Q17  How do you count a number of vowels and consonants in a given string?"
   ]
  },
  {
   "cell_type": "code",
   "execution_count": 31,
   "metadata": {},
   "outputs": [
    {
     "name": "stdout",
     "output_type": "stream",
     "text": [
      "vowels in string 10\n"
     ]
    }
   ],
   "source": [
    "def vowels_count(string):\n",
    "    string = string.lower()\n",
    "    count = 0\n",
    "    lists = ['i','o','u','e','a']\n",
    "    for i in string:\n",
    "        if i in lists:\n",
    "            count = count + 1\n",
    "    return count\n",
    "\n",
    "\n",
    "val = \"i am ahmed hassan from pakistan\"\n",
    "\n",
    "print(\"vowels in string\",vowels_count(val))\n",
    "            "
   ]
  },
  {
   "cell_type": "markdown",
   "metadata": {},
   "source": [
    "### Q18 How do you count the occurrence of a given character in a string?\n"
   ]
  },
  {
   "cell_type": "code",
   "execution_count": 23,
   "metadata": {},
   "outputs": [
    {
     "name": "stdout",
     "output_type": "stream",
     "text": [
      "(e, 4)\n",
      "(l, 2)\n",
      "(o, 4)\n",
      "( , 9)\n",
      "(a, 4)\n",
      "(r, 2)\n",
      "(i, 3)\n",
      "(d, 2)\n",
      "(n, 4)\n",
      "(c, 2)\n"
     ]
    }
   ],
   "source": [
    "from collections import Counter\n",
    "def calc_char_freq(string):\n",
    "    freq_count = Counter(string) \n",
    "    for key in freq_count.keys():\n",
    "        if freq_count.get(key) > 1: \n",
    "            print(\"(\" + key + \", \" + str(freq_count.get(key)) + \")\")\n",
    "\n",
    "myStr = 'Hello Dear i am doing advance python course in ITU'    \n",
    "calc_char_freq(myStr)\n",
    "    \n",
    "    "
   ]
  },
  {
   "cell_type": "markdown",
   "metadata": {},
   "source": [
    "### Q19 How do you ﬁnd all permutations of a string?\n"
   ]
  },
  {
   "cell_type": "code",
   "execution_count": null,
   "metadata": {},
   "outputs": [],
   "source": [
    "def is_permitation(str1 , str2):\n",
    "    str1 = str1.replace(\" \",\"\")\n",
    "    str2 = str2.replace(\" \",\"\")\n",
    "    \n",
    "    if len(str1) != len(str2):\n",
    "        return False\n",
    "    \n",
    "    for c in str1:\n",
    "        if c in str2:\n",
    "            str2 = str2.replace(c,\"\")\n",
    "    return len(str2) == 0\n",
    "\n",
    "\n",
    "\n",
    "string_one = \"ahmed\"\n",
    "string_two = \"adahm\" \n",
    "\n",
    "print(is_permitation(string_one,string_two))\n",
    "\n",
    "    "
   ]
  },
  {
   "cell_type": "markdown",
   "metadata": {},
   "source": [
    "### Q20 How do you reverse words in a given sentence without using any library method?\n"
   ]
  },
  {
   "cell_type": "code",
   "execution_count": 27,
   "metadata": {},
   "outputs": [
    {
     "name": "stdout",
     "output_type": "stream",
     "text": [
      "nassaH demha ma I\n"
     ]
    }
   ],
   "source": [
    "def reversed_string(values):\n",
    "    reversed_value = \"\"\n",
    "    for i in values:\n",
    "        reversed_value = i + reversed_value\n",
    "    return reversed_value\n",
    "        \n",
    "\n",
    "v = \"I am ahmed Hassan\"\n",
    "\n",
    "print(reversed_string(v))"
   ]
  },
  {
   "cell_type": "markdown",
   "metadata": {},
   "source": [
    "### Q21 How do you check if two strings are a rotation of each other?\n"
   ]
  },
  {
   "cell_type": "code",
   "execution_count": null,
   "metadata": {},
   "outputs": [],
   "source": []
  },
  {
   "cell_type": "markdown",
   "metadata": {},
   "source": [
    "### Q22 How do you check if a given string is a palindrome?\n",
    "\n"
   ]
  },
  {
   "cell_type": "code",
   "execution_count": null,
   "metadata": {},
   "outputs": [],
   "source": [
    "def palindrome(s):\n",
    "    s.lower()\n",
    "    if s == s[::-1]:\n",
    "        print(s, \"  is Palindrome\")\n",
    "    else:\n",
    "        print(s, \"  is not Palindrome\")\n",
    "    \n",
    "    \n",
    "palindrome(\"I am ahmed hassan\")  \n",
    "palindrome(\"madam\")\n",
    "palindrome(\"raar\")\n"
   ]
  },
  {
   "cell_type": "code",
   "execution_count": null,
   "metadata": {},
   "outputs": [],
   "source": []
  }
 ],
 "metadata": {
  "kernelspec": {
   "display_name": "Python 3",
   "language": "python",
   "name": "python3"
  },
  "language_info": {
   "codemirror_mode": {
    "name": "ipython",
    "version": 3
   },
   "file_extension": ".py",
   "mimetype": "text/x-python",
   "name": "python",
   "nbconvert_exporter": "python",
   "pygments_lexer": "ipython3",
   "version": "3.7.4"
  }
 },
 "nbformat": 4,
 "nbformat_minor": 2
}
