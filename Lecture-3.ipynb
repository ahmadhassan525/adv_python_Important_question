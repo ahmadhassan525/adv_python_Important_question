{
 "cells": [
  {
   "cell_type": "markdown",
   "metadata": {},
   "source": [
    "### Remove duplicates from an array in place?"
   ]
  },
  {
   "cell_type": "code",
   "execution_count": 1,
   "metadata": {},
   "outputs": [
    {
     "name": "stdout",
     "output_type": "stream",
     "text": [
      "[2, 3, 4, 55, 6, 7, 5]\n"
     ]
    }
   ],
   "source": [
    "def remove(array):\n",
    "    final_array = []\n",
    "    for n in array:\n",
    "        if n not in final_array:\n",
    "            final_array.append(n)\n",
    "            \n",
    "    return final_array        \n",
    "\n",
    "\n",
    "\n",
    "lists = [2,3,4,55,6,7,2,3,4,5,2,3]\n",
    "\n",
    "n = remove(lists)\n",
    "\n",
    "print(n)"
   ]
  },
  {
   "cell_type": "markdown",
   "metadata": {},
   "source": [
    "### Find the largest and smallest number in an unsorted integer array?"
   ]
  },
  {
   "cell_type": "code",
   "execution_count": 13,
   "metadata": {},
   "outputs": [
    {
     "name": "stdout",
     "output_type": "stream",
     "text": [
      "1\n"
     ]
    }
   ],
   "source": [
    "def largest_smallest_number(array,types):\n",
    "    max_and_min_number  = array[0] \n",
    "    if types == \"small\":\n",
    "        for n in array:\n",
    "            if n < max_and_min_number:\n",
    "                max_and_min_number = n\n",
    "        print(max_and_min_number)        \n",
    "    elif types == \"larg\":\n",
    "        for n in array:\n",
    "            if n > max_and_min_number:\n",
    "                max_and_min_number = n\n",
    "        print(max_and_min_number)        \n",
    "    else:\n",
    "        print(\"Please enter the correct type \")\n",
    "        \n",
    "        \n",
    "lists = [2,3,45,6,78,9,1,55,33,4466]\n",
    "\n",
    "largest_smallest_number(lists,\"small\")"
   ]
  },
  {
   "cell_type": "markdown",
   "metadata": {},
   "source": [
    "### How to Print duplicate characters from String?"
   ]
  },
  {
   "cell_type": "code",
   "execution_count": 16,
   "metadata": {},
   "outputs": [
    {
     "name": "stdout",
     "output_type": "stream",
     "text": [
      "a 7\n",
      "c 5\n",
      "e 7\n",
      "g 2\n",
      "h 5\n",
      "i 5\n",
      "m 3\n",
      "n 3\n",
      "o 2\n",
      "p 2\n",
      "r 4\n",
      "s 5\n",
      "t 5\n"
     ]
    }
   ],
   "source": [
    "chars = \"abcdefghijklmnopqrstuvwxyz\"\n",
    "check_string = \"i am checking this string to see how many times each character appears\"\n",
    "for char in chars:\n",
    "    \n",
    "    count = check_string.count(char)\n",
    "    if count > 1:\n",
    "        print(char, count)"
   ]
  },
  {
   "cell_type": "markdown",
   "metadata": {},
   "source": [
    "### How to check if a String contains only digits?"
   ]
  },
  {
   "cell_type": "code",
   "execution_count": 18,
   "metadata": {},
   "outputs": [
    {
     "data": {
      "text/plain": [
       "True"
      ]
     },
     "execution_count": 18,
     "metadata": {},
     "output_type": "execute_result"
    }
   ],
   "source": [
    "s = '112344'\n",
    "s.isdigit()"
   ]
  },
  {
   "cell_type": "markdown",
   "metadata": {},
   "source": [
    "### Implement Binary search using python language?"
   ]
  },
  {
   "cell_type": "code",
   "execution_count": 20,
   "metadata": {},
   "outputs": [
    {
     "name": "stdout",
     "output_type": "stream",
     "text": [
      "False\n",
      "True\n"
     ]
    }
   ],
   "source": [
    "def binary_search(item_list,item):\n",
    "    first = 0\n",
    "    last = len(item_list)-1\n",
    "    found = False\n",
    "    while( first<=last and not found):\n",
    "        mid = (first + last)//2\n",
    "        if item_list[mid] == item :\n",
    "            found = True\n",
    "        else:\n",
    "            if item < item_list[mid]:\n",
    "                last = mid - 1   \n",
    "            else:\n",
    "                first = mid + 1\n",
    "    return found\n",
    "print(binary_search([1,2,3,5,8], 6))\n",
    "print(binary_search([1,2,3,5,8], 5))\n"
   ]
  },
  {
   "cell_type": "markdown",
   "metadata": {},
   "source": [
    "### Find the Factorial of the number?"
   ]
  },
  {
   "cell_type": "code",
   "execution_count": 32,
   "metadata": {},
   "outputs": [
    {
     "name": "stdout",
     "output_type": "stream",
     "text": [
      "Enter the number to convert factorial  7\n",
      "Factorial of 7  is  5040\n"
     ]
    }
   ],
   "source": [
    "number = input(\"Enter the number to convert factorial  \")\n",
    "fact = 1 \n",
    "if number < \"0\" :\n",
    "    print(\"Enter the positive values \")\n",
    "elif number == \"0\":\n",
    "    print(\"The factorial of 0 is equal to 1 \")\n",
    "else:\n",
    "    for i in range(1,int(number)+1):\n",
    "        fact = fact*i\n",
    "    print(f\"Factorial of {number}  is  {fact}\")    "
   ]
  },
  {
   "cell_type": "markdown",
   "metadata": {},
   "source": [
    "### How to check if a given year is a leap year?"
   ]
  },
  {
   "cell_type": "code",
   "execution_count": 35,
   "metadata": {},
   "outputs": [
    {
     "name": "stdout",
     "output_type": "stream",
     "text": [
      "2021 is not a leap year\n"
     ]
    }
   ],
   "source": [
    "year = 2021\n",
    "\n",
    "# To get year (integer input) from the user\n",
    "# year = int(input(\"Enter a year: \"))\n",
    "\n",
    "if (year % 4) == 0:\n",
    "    if (year % 100) == 0:\n",
    "        if (year % 400) == 0:\n",
    "            print(\"{0} is a leap year\".format(year))\n",
    "        else:\n",
    "            print(\"{0} is not a leap year\".format(year))\n",
    "    else:\n",
    "        print(\"{0} is a leap year\".format(year))\n",
    "else:\n",
    "    print(\"{0} is not a leap year\".format(year))"
   ]
  }
 ],
 "metadata": {
  "kernelspec": {
   "display_name": "Python 3",
   "language": "python",
   "name": "python3"
  },
  "language_info": {
   "codemirror_mode": {
    "name": "ipython",
    "version": 3
   },
   "file_extension": ".py",
   "mimetype": "text/x-python",
   "name": "python",
   "nbconvert_exporter": "python",
   "pygments_lexer": "ipython3",
   "version": "3.7.4"
  }
 },
 "nbformat": 4,
 "nbformat_minor": 2
}
