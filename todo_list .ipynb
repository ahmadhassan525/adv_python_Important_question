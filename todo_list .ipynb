{
 "cells": [
  {
   "cell_type": "markdown",
   "metadata": {},
   "source": [
    "### Create user name list "
   ]
  },
  {
   "cell_type": "code",
   "execution_count": 1,
   "metadata": {},
   "outputs": [
    {
     "name": "stdout",
     "output_type": "stream",
     "text": [
      "-1 to exit the program\n",
      "Enter the name ahmed \n",
      "Enter the name hassan \n",
      "Enter the name ali \n",
      "Enter the name hamza\n",
      "Enter the name nomi \n",
      "Enter the name kamran \n",
      "Enter the name touqeer\n",
      "Enter the name ramzan \n",
      "Enter the name -1\n"
     ]
    }
   ],
   "source": [
    "\n",
    "\n",
    "lists = [] \n",
    "\n",
    "n = 0\n",
    "print(\"-1 to exit the program\")\n",
    "while(True):\n",
    "    \n",
    "    if (n == 0 ):\n",
    "        \n",
    "        name = input(\"Enter the name \")\n",
    "        lists.append(name)\n",
    "        if name == \"-1\":\n",
    "            lists.remove(\"-1\")\n",
    "            n = -1\n",
    "    else:\n",
    "        break\n",
    "    \n",
    "    \n",
    "    \n",
    "   "
   ]
  },
  {
   "cell_type": "markdown",
   "metadata": {},
   "source": [
    "### Find the name in list\n"
   ]
  },
  {
   "cell_type": "code",
   "execution_count": 6,
   "metadata": {},
   "outputs": [
    {
     "name": "stdout",
     "output_type": "stream",
     "text": [
      "Enter find name hh\n",
      "Not found in list\n"
     ]
    }
   ],
   "source": [
    "findName = input(\"Enter find name \")\n",
    "\n",
    "if findName in lists:\n",
    "    print(\"found Name in list\")\n",
    "else:\n",
    "    print(\"Not found in list\")"
   ]
  },
  {
   "cell_type": "code",
   "execution_count": null,
   "metadata": {},
   "outputs": [],
   "source": []
  }
 ],
 "metadata": {
  "kernelspec": {
   "display_name": "Python 3",
   "language": "python",
   "name": "python3"
  },
  "language_info": {
   "codemirror_mode": {
    "name": "ipython",
    "version": 3
   },
   "file_extension": ".py",
   "mimetype": "text/x-python",
   "name": "python",
   "nbconvert_exporter": "python",
   "pygments_lexer": "ipython3",
   "version": "3.7.4"
  }
 },
 "nbformat": 4,
 "nbformat_minor": 2
}
