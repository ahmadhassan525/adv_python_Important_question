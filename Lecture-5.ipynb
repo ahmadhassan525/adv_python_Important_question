{
 "cells": [
  {
   "cell_type": "markdown",
   "metadata": {},
   "source": [
    "### Write and then read a file in CSV format?"
   ]
  },
  {
   "cell_type": "code",
   "execution_count": 1,
   "metadata": {},
   "outputs": [],
   "source": [
    "import csv "
   ]
  },
  {
   "cell_type": "code",
   "execution_count": 9,
   "metadata": {},
   "outputs": [],
   "source": [
    "# my data rows as dictionary objects  \n",
    "mydict =[{'branch': 'COE', 'cgpa': '9.0', 'name': 'Nikhil', 'year': '2'},  \n",
    "         {'branch': 'COE', 'cgpa': '9.1', 'name': 'Sanchit', 'year': '2'},  \n",
    "         {'branch': 'IT', 'cgpa': '9.3', 'name': 'Aditya', 'year': '2'},  \n",
    "         {'branch': 'SE', 'cgpa': '9.5', 'name': 'Sagar', 'year': '1'},  \n",
    "         {'branch': 'MCE', 'cgpa': '7.8', 'name': 'Prateek', 'year': '3'},  \n",
    "         {'branch': 'EP', 'cgpa': '9.1', 'name': 'Sahil', 'year': '2'}]  \n",
    "# field names  \n",
    "fields = ['name', 'branch', 'year', 'cgpa'] \n",
    "\n",
    "  \n",
    "# name of csv file \n",
    "filename = \"university_records.csv\"\n",
    "  \n",
    "# writing to csv file \n",
    "with open(filename, 'w',encoding = 'utf-8') as csvfile: \n",
    "    # creating a csv dict writer object \n",
    "    writer = csv.DictWriter(csvfile, fieldnames = fields) \n",
    "    # writing headers (field names) \n",
    "    writer.writeheader()   \n",
    "    # writing data rows \n",
    "    writer.writerows(mydict) "
   ]
  },
  {
   "cell_type": "code",
   "execution_count": 10,
   "metadata": {},
   "outputs": [
    {
     "name": "stdout",
     "output_type": "stream",
     "text": [
      "{'name': 'Nikhil', 'branch': 'COE', 'year': '2', 'cgpa': '9.0'}\n",
      "{'name': 'Sanchit', 'branch': 'COE', 'year': '2', 'cgpa': '9.1'}\n",
      "{'name': 'Aditya', 'branch': 'IT', 'year': '2', 'cgpa': '9.3'}\n",
      "{'name': 'Sagar', 'branch': 'SE', 'year': '1', 'cgpa': '9.5'}\n",
      "{'name': 'Prateek', 'branch': 'MCE', 'year': '3', 'cgpa': '7.8'}\n",
      "{'name': 'Sahil', 'branch': 'EP', 'year': '2', 'cgpa': '9.1'}\n"
     ]
    }
   ],
   "source": [
    "with open(filename, 'r',encoding = 'utf-8') as file:\n",
    "    reader = csv.DictReader(file)\n",
    "    for row in reader:\n",
    "        print(dict(row))"
   ]
  },
  {
   "cell_type": "markdown",
   "metadata": {},
   "source": [
    "###  Difference between Def and lambda?\n"
   ]
  },
  {
   "cell_type": "code",
   "execution_count": 27,
   "metadata": {},
   "outputs": [
    {
     "name": "stdout",
     "output_type": "stream",
     "text": [
      "function 9\n",
      "lambda function 9\n"
     ]
    }
   ],
   "source": [
    "def add(x,y):\n",
    "    return x+y\n",
    "\n",
    "adding = lambda x,y : x+y\n",
    "\n",
    "print(\"function\",add(4,5))\n",
    "print(\"lambda function\", adding(4,5))"
   ]
  },
  {
   "cell_type": "code",
   "execution_count": 38,
   "metadata": {},
   "outputs": [
    {
     "name": "stdout",
     "output_type": "stream",
     "text": [
      "from function  value is 5 = odd\n",
      "from lambda function  value is 5 = odd\n"
     ]
    }
   ],
   "source": [
    "def find_out(value):\n",
    "    if (value % 2) == 0 :\n",
    "        return \"even\"\n",
    "    else:\n",
    "        return \"odd\"\n",
    "\n",
    "\n",
    "even_odd = lambda x: \"Even\" if(x % 2)==0 else \"Odd\"   \n",
    "\n",
    "values = 5    \n",
    "n = find_out(values)\n",
    "print(f\"from function  value is {values} = {n}\")\n",
    "print(f\"from lambda function  value is {values} = {n}\")"
   ]
  },
  {
   "cell_type": "markdown",
   "metadata": {},
   "source": [
    "###  Lamda map and filter function?"
   ]
  },
  {
   "cell_type": "code",
   "execution_count": 48,
   "metadata": {},
   "outputs": [
    {
     "name": "stdout",
     "output_type": "stream",
     "text": [
      "lambda map function  [0, 6, 9, 12, 15, 18, 234, 264, 66, 99]\n",
      "lambda filter function  [0, 2, 4, 6, 78, 88, 22]\n"
     ]
    }
   ],
   "source": [
    "lists = [0,2,3,4,5,6,78,88,22,33]\n",
    "\n",
    "n = list(map(lambda x: x*3,lists))\n",
    "\n",
    "m = list(filter(lambda x: (x%2==0),lists))\n",
    "\n",
    "print(f\"lambda map function  {n}\")\n",
    "print(f\"lambda filter function  {m}\")"
   ]
  },
  {
   "cell_type": "markdown",
   "metadata": {},
   "source": [
    "### Write a function to compute Nth Fibonacci number"
   ]
  },
  {
   "cell_type": "code",
   "execution_count": 4,
   "metadata": {},
   "outputs": [
    {
     "name": "stdout",
     "output_type": "stream",
     "text": [
      "[1, 2, 3, 5, 8, 13, 21, 34, 55, 89, 144, 233, 377, 610]\n"
     ]
    }
   ],
   "source": [
    "def fibonacci(n):\n",
    "    array = []\n",
    "    a = 0 \n",
    "    b = 1\n",
    "    if n < 0:\n",
    "        print(\"Incorrect input\")\n",
    "    elif n == 0:\n",
    "        return a\n",
    "    elif n == 1:\n",
    "        return b\n",
    "    else:\n",
    "        for i in range(2,n):\n",
    "            c = a + b\n",
    "            a = b\n",
    "            b = c\n",
    "            array.append(b)\n",
    "    return array\n",
    "\n",
    "\n",
    "\n",
    "\n",
    "n = fibonacci(16)\n",
    "print(n)"
   ]
  },
  {
   "cell_type": "markdown",
   "metadata": {},
   "source": [
    "### Given two arrays, 1,2,3,4,5 and 2,3,1,0,5 ﬁnd which number is not present in the second array by creating a function  and passing array as arguments"
   ]
  },
  {
   "cell_type": "code",
   "execution_count": 93,
   "metadata": {},
   "outputs": [
    {
     "name": "stdout",
     "output_type": "stream",
     "text": [
      "6 5 "
     ]
    }
   ],
   "source": [
    "# Function for finding elements which  \n",
    "# are there in a[] but not in b[]. \n",
    "def findMissing(a, b, n, m): \n",
    "  \n",
    "    for i in range(n): \n",
    "        for j in range(m): \n",
    "            if (a[i] == b[j]): \n",
    "                break\n",
    "  \n",
    "        if (j == m - 1): \n",
    "            print(a[i], end = \" \") \n",
    "  \n",
    "\n",
    "      \n",
    "a = [ 1, 2, 6, 3, 4, 5 ] \n",
    "b = [ 2, 4, 3, 1, 0 ] \n",
    "n = len(a) \n",
    "m = len(b) \n",
    "findMissing(a, b, n, m) "
   ]
  },
  {
   "cell_type": "code",
   "execution_count": null,
   "metadata": {},
   "outputs": [],
   "source": []
  }
 ],
 "metadata": {
  "kernelspec": {
   "display_name": "Python 3",
   "language": "python",
   "name": "python3"
  },
  "language_info": {
   "codemirror_mode": {
    "name": "ipython",
    "version": 3
   },
   "file_extension": ".py",
   "mimetype": "text/x-python",
   "name": "python",
   "nbconvert_exporter": "python",
   "pygments_lexer": "ipython3",
   "version": "3.7.4"
  }
 },
 "nbformat": 4,
 "nbformat_minor": 2
}
