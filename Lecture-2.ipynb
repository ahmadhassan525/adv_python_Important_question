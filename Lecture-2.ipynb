{
 "cells": [
  {
   "cell_type": "markdown",
   "metadata": {},
   "source": [
    "<h3>Q1 - Write a program that asks the user for a number n and prints the sum of the numbers 1 to n</h3>"
   ]
  },
  {
   "cell_type": "code",
   "execution_count": 1,
   "metadata": {},
   "outputs": [
    {
     "name": "stdout",
     "output_type": "stream",
     "text": [
      "Enter number   4\n",
      "1\n",
      "3\n",
      "6\n"
     ]
    }
   ],
   "source": [
    "sum = 0\n",
    "number = input(\"Enter number   \")\n",
    "\n",
    "for i in range(1,int(number)):\n",
    "    sum = sum + i\n",
    "    print(sum)"
   ]
  },
  {
   "cell_type": "markdown",
   "metadata": {},
   "source": [
    "### Q2-  Write a program that prints a multiplication table for numbers up to 12."
   ]
  },
  {
   "cell_type": "code",
   "execution_count": 2,
   "metadata": {},
   "outputs": [
    {
     "name": "stdout",
     "output_type": "stream",
     "text": [
      "Enter Table number  5\n",
      "5 * 1 = 5 \n",
      "5 * 2 = 10 \n",
      "5 * 3 = 15 \n",
      "5 * 4 = 20 \n",
      "5 * 5 = 25 \n",
      "5 * 6 = 30 \n",
      "5 * 7 = 35 \n",
      "5 * 8 = 40 \n",
      "5 * 9 = 45 \n",
      "5 * 10 = 50 \n"
     ]
    }
   ],
   "source": [
    "table_number = input(\"Enter Table number  \")\n",
    "\n",
    "for i in range(1,11):\n",
    "    print(f\"{table_number} * {i} = {int(table_number)* i} \")"
   ]
  },
  {
   "cell_type": "markdown",
   "metadata": {},
   "source": [
    "### Q3- Write a function that returns the largest element in a list."
   ]
  },
  {
   "cell_type": "code",
   "execution_count": 3,
   "metadata": {},
   "outputs": [
    {
     "name": "stdout",
     "output_type": "stream",
     "text": [
      "Enter the length of list 5\n",
      "Enter new number4\n",
      "Enter new number4\n",
      "Enter new number45\n",
      "Enter new number66\n",
      "Enter new number77\n",
      "['4', '4', '45', '66', '77']\n",
      "largest number in list   77\n"
     ]
    }
   ],
   "source": [
    "def largest_number(array,length):\n",
    "    max_number = array[0]\n",
    "    \n",
    "    for i in range(0,int(length)):\n",
    "        if(array[i] > max_number):\n",
    "            max_number = array[i]\n",
    "    \n",
    "    return max_number\n",
    "\n",
    "\n",
    "\n",
    "\n",
    "length = input(\"Enter the length of list \")\n",
    "lists = []\n",
    "for i in range(1,int(length)+1):\n",
    "    new_number = input(\"Enter new number\")\n",
    "    lists.append(new_number)\n",
    "\n",
    "print(lists)\n",
    "get_number = largest_number(lists,len(lists))\n",
    "    \n",
    "print(\"largest number in list  \" , get_number)    "
   ]
  },
  {
   "cell_type": "markdown",
   "metadata": {},
   "source": [
    "### Q4-  Write a function that computes the running total of a list."
   ]
  },
  {
   "cell_type": "code",
   "execution_count": 4,
   "metadata": {},
   "outputs": [
    {
     "name": "stdout",
     "output_type": "stream",
     "text": [
      "Sum all values in list  33\n"
     ]
    }
   ],
   "source": [
    "def sum_list(n):\n",
    "    sum_values = 0; \n",
    "    for i in n:\n",
    "        sum_values = sum_values + i \n",
    "    return sum_values\n",
    "\n",
    "\n",
    "lists = [3,4,5,6,7,8]\n",
    "sum_values = sum_list(lists)\n",
    "\n",
    "print(\"Sum all values in list \" , sum_values)"
   ]
  },
  {
   "cell_type": "markdown",
   "metadata": {},
   "source": [
    "### Q5- Write a function that checks whether an element occurs in a list."
   ]
  },
  {
   "cell_type": "code",
   "execution_count": 3,
   "metadata": {},
   "outputs": [
    {
     "name": "stdout",
     "output_type": "stream",
     "text": [
      "Found\n"
     ]
    }
   ],
   "source": [
    "def element_found_in_list(lis,values):\n",
    "    rang = len(lis)\n",
    "    for i in range(0,rang):\n",
    "        if lis[i] == values:\n",
    "            return \"Found\"\n",
    "    \n",
    "    \n",
    "\n",
    "    \n",
    "lists = [\"apple\", \"banana\", \"cherry\", \"orange\", \"kiwi\", \"melon\", \"mango\"]\n",
    "n = element_found_in_list(lists,\"mango\")\n",
    "print(n)\n",
    "\n",
    "    \n",
    "    "
   ]
  },
  {
   "cell_type": "markdown",
   "metadata": {},
   "source": [
    "### Write a function that returns the elements on odd positions in a list."
   ]
  },
  {
   "cell_type": "code",
   "execution_count": 18,
   "metadata": {},
   "outputs": [
    {
     "name": "stdout",
     "output_type": "stream",
     "text": [
      "1\n",
      "3\n",
      "5\n",
      "7\n",
      "9\n"
     ]
    }
   ],
   "source": [
    "def funtion_lists(lis):\n",
    "    length = len(lis)\n",
    "    for i in range(0,length,2):\n",
    "        print(lis[i])\n",
    "\n",
    "lists = [1,2,3,4,5,6,7,8,9]\n",
    "funtion_lists(lists)\n"
   ]
  },
  {
   "cell_type": "code",
   "execution_count": null,
   "metadata": {},
   "outputs": [],
   "source": []
  }
 ],
 "metadata": {
  "kernelspec": {
   "display_name": "Python 3",
   "language": "python",
   "name": "python3"
  },
  "language_info": {
   "codemirror_mode": {
    "name": "ipython",
    "version": 3
   },
   "file_extension": ".py",
   "mimetype": "text/x-python",
   "name": "python",
   "nbconvert_exporter": "python",
   "pygments_lexer": "ipython3",
   "version": "3.7.4"
  }
 },
 "nbformat": 4,
 "nbformat_minor": 2
}
